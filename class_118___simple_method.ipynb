{
  "nbformat": 4,
  "nbformat_minor": 0,
  "metadata": {
    "colab": {
      "name": "class 118 _ simple method",
      "provenance": [],
      "collapsed_sections": [],
      "authorship_tag": "ABX9TyMvoLMR3t79I3ChBFgFTm6J",
      "include_colab_link": true
    },
    "kernelspec": {
      "name": "python3",
      "display_name": "Python 3"
    },
    "language_info": {
      "name": "python"
    }
  },
  "cells": [
    {
      "cell_type": "markdown",
      "metadata": {
        "id": "view-in-github",
        "colab_type": "text"
      },
      "source": [
        "<a href=\"https://colab.research.google.com/github/Akriti96/Clustering-118--simple-method/blob/main/class_118___simple_method.ipynb\" target=\"_parent\"><img src=\"https://colab.research.google.com/assets/colab-badge.svg\" alt=\"Open In Colab\"/></a>"
      ]
    },
    {
      "cell_type": "code",
      "metadata": {
        "colab": {
          "base_uri": "https://localhost:8080/",
          "height": 205
        },
        "id": "cc0MnQVQwVP8",
        "outputId": "1403496d-5fd6-4134-aeab-a0709a80367c"
      },
      "source": [
        "import pandas as pd\n",
        "import plotly.express as px\n",
        "\n",
        "from sklearn.cluster import KMeans\n",
        "from sklearn.preprocessing import MinMaxScaler\n",
        "from matplotlib import pyplot as plt\n",
        "%matplotlib inline\n",
        "df = pd.read_csv(\"https://raw.githubusercontent.com/whitehatjr/datasets/master/C118/petals_sepals.csv\")\n",
        "\n",
        "df.head()"
      ],
      "execution_count": 3,
      "outputs": [
        {
          "output_type": "execute_result",
          "data": {
            "text/html": [
              "<div>\n",
              "<style scoped>\n",
              "    .dataframe tbody tr th:only-of-type {\n",
              "        vertical-align: middle;\n",
              "    }\n",
              "\n",
              "    .dataframe tbody tr th {\n",
              "        vertical-align: top;\n",
              "    }\n",
              "\n",
              "    .dataframe thead th {\n",
              "        text-align: right;\n",
              "    }\n",
              "</style>\n",
              "<table border=\"1\" class=\"dataframe\">\n",
              "  <thead>\n",
              "    <tr style=\"text-align: right;\">\n",
              "      <th></th>\n",
              "      <th>petal_size</th>\n",
              "      <th>sepal_size</th>\n",
              "    </tr>\n",
              "  </thead>\n",
              "  <tbody>\n",
              "    <tr>\n",
              "      <th>0</th>\n",
              "      <td>11.323484</td>\n",
              "      <td>13.866161</td>\n",
              "    </tr>\n",
              "    <tr>\n",
              "      <th>1</th>\n",
              "      <td>9.265842</td>\n",
              "      <td>13.443414</td>\n",
              "    </tr>\n",
              "    <tr>\n",
              "      <th>2</th>\n",
              "      <td>14.329944</td>\n",
              "      <td>7.956200</td>\n",
              "    </tr>\n",
              "    <tr>\n",
              "      <th>3</th>\n",
              "      <td>11.883902</td>\n",
              "      <td>7.658534</td>\n",
              "    </tr>\n",
              "    <tr>\n",
              "      <th>4</th>\n",
              "      <td>9.957722</td>\n",
              "      <td>12.273535</td>\n",
              "    </tr>\n",
              "  </tbody>\n",
              "</table>\n",
              "</div>"
            ],
            "text/plain": [
              "   petal_size  sepal_size\n",
              "0   11.323484   13.866161\n",
              "1    9.265842   13.443414\n",
              "2   14.329944    7.956200\n",
              "3   11.883902    7.658534\n",
              "4    9.957722   12.273535"
            ]
          },
          "metadata": {
            "tags": []
          },
          "execution_count": 3
        }
      ]
    },
    {
      "cell_type": "code",
      "metadata": {
        "colab": {
          "base_uri": "https://localhost:8080/",
          "height": 282
        },
        "id": "KWOYpgX7BNbg",
        "outputId": "80ee4eb6-9f0d-4ec9-9867-c9bfc10f3bf8"
      },
      "source": [
        "plt.scatter(df[\"petal_size\"],df[\"sepal_size\"])"
      ],
      "execution_count": 4,
      "outputs": [
        {
          "output_type": "execute_result",
          "data": {
            "text/plain": [
              "<matplotlib.collections.PathCollection at 0x7fdc5f19b450>"
            ]
          },
          "metadata": {
            "tags": []
          },
          "execution_count": 4
        },
        {
          "output_type": "display_data",
          "data": {
            "image/png": "[encoded data removed]",
            "text/plain": [
              "<Figure size 432x288 with 1 Axes>"
            ]
          },
          "metadata": {
            "tags": [],
            "needs_background": "light"
          }
        }
      ]
    },
    {
      "cell_type": "code",
      "metadata": {
        "colab": {
          "base_uri": "https://localhost:8080/"
        },
        "id": "67S70H8PCC59",
        "outputId": "f95e7f1e-b1d9-4655-9495-5514501dfe87"
      },
      "source": [
        "km=KMeans(n_clusters=3)\n",
        "km"
      ],
      "execution_count": 5,
      "outputs": [
        {
          "output_type": "execute_result",
          "data": {
            "text/plain": [
              "KMeans(algorithm='auto', copy_x=True, init='k-means++', max_iter=300,\n",
              "       n_clusters=3, n_init=10, n_jobs=None, precompute_distances='auto',\n",
              "       random_state=None, tol=0.0001, verbose=0)"
            ]
          },
          "metadata": {
            "tags": []
          },
          "execution_count": 5
        }
      ]
    },
    {
      "cell_type": "code",
      "metadata": {
        "colab": {
          "base_uri": "https://localhost:8080/"
        },
        "id": "_gJK7CTcCMsq",
        "outputId": "86bb21db-03b5-4ca2-c009-804ed7c3e3d6"
      },
      "source": [
        "y_predict=km.fit_predict(df[[\"petal_size\",\"sepal_size\"]])\n",
        "y_predict"
      ],
      "execution_count": 6,
      "outputs": [
        {
          "output_type": "execute_result",
          "data": {
            "text/plain": [
              "array([0, 0, 2, 2, 0, 0, 2, 2, 0, 1, 1, 1, 2, 1, 0, 2, 2, 1, 1, 1, 2, 0,\n",
              "       0, 2, 2, 2, 2, 0, 2, 0, 2, 0, 0, 2, 1, 0, 1, 1, 2, 0, 0, 0, 2, 1,\n",
              "       2, 2, 2, 0, 0, 0, 1, 2, 0, 1, 1, 2, 2, 1, 2, 0, 2, 0, 1, 1, 1, 2,\n",
              "       2, 0, 0, 2, 0, 1, 1, 0, 1, 0, 0, 2, 0, 0, 2, 0, 0, 0, 0, 2, 0, 2,\n",
              "       1, 0, 1, 2, 2, 2, 1, 2, 1, 0, 2, 1, 1, 0, 0, 0, 1, 1, 0, 0, 1, 1,\n",
              "       1, 2, 1, 2, 1, 1, 1, 2, 1, 2, 0, 2, 1, 2, 0, 2, 1, 2, 2, 1, 1, 1,\n",
              "       2, 1, 1, 1, 1, 0, 2, 0, 1, 1, 0, 0, 1, 1, 0, 2, 2, 2], dtype=int32)"
            ]
          },
          "metadata": {
            "tags": []
          },
          "execution_count": 6
        }
      ]
    },
    {
      "cell_type": "code",
      "metadata": {
        "colab": {
          "base_uri": "https://localhost:8080/",
          "height": 205
        },
        "id": "rFMZHVM2C_Mz",
        "outputId": "8a713d21-9a60-4356-8321-ac36ef33aeef"
      },
      "source": [
        "df[\"cluter\"]=y_predict\n",
        "df.head()"
      ],
      "execution_count": 7,
      "outputs": [
        {
          "output_type": "execute_result",
          "data": {
            "text/html": [
              "<div>\n",
              "<style scoped>\n",
              "    .dataframe tbody tr th:only-of-type {\n",
              "        vertical-align: middle;\n",
              "    }\n",
              "\n",
              "    .dataframe tbody tr th {\n",
              "        vertical-align: top;\n",
              "    }\n",
              "\n",
              "    .dataframe thead th {\n",
              "        text-align: right;\n",
              "    }\n",
              "</style>\n",
              "<table border=\"1\" class=\"dataframe\">\n",
              "  <thead>\n",
              "    <tr style=\"text-align: right;\">\n",
              "      <th></th>\n",
              "      <th>petal_size</th>\n",
              "      <th>sepal_size</th>\n",
              "      <th>cluter</th>\n",
              "    </tr>\n",
              "  </thead>\n",
              "  <tbody>\n",
              "    <tr>\n",
              "      <th>0</th>\n",
              "      <td>11.323484</td>\n",
              "      <td>13.866161</td>\n",
              "      <td>0</td>\n",
              "    </tr>\n",
              "    <tr>\n",
              "      <th>1</th>\n",
              "      <td>9.265842</td>\n",
              "      <td>13.443414</td>\n",
              "      <td>0</td>\n",
              "    </tr>\n",
              "    <tr>\n",
              "      <th>2</th>\n",
              "      <td>14.329944</td>\n",
              "      <td>7.956200</td>\n",
              "      <td>2</td>\n",
              "    </tr>\n",
              "    <tr>\n",
              "      <th>3</th>\n",
              "      <td>11.883902</td>\n",
              "      <td>7.658534</td>\n",
              "      <td>2</td>\n",
              "    </tr>\n",
              "    <tr>\n",
              "      <th>4</th>\n",
              "      <td>9.957722</td>\n",
              "      <td>12.273535</td>\n",
              "      <td>0</td>\n",
              "    </tr>\n",
              "  </tbody>\n",
              "</table>\n",
              "</div>"
            ],
            "text/plain": [
              "   petal_size  sepal_size  cluter\n",
              "0   11.323484   13.866161       0\n",
              "1    9.265842   13.443414       0\n",
              "2   14.329944    7.956200       2\n",
              "3   11.883902    7.658534       2\n",
              "4    9.957722   12.273535       0"
            ]
          },
          "metadata": {
            "tags": []
          },
          "execution_count": 7
        }
      ]
    },
    {
      "cell_type": "code",
      "metadata": {
        "colab": {
          "base_uri": "https://localhost:8080/",
          "height": 297
        },
        "id": "OnTcwKGKDN2i",
        "outputId": "c1d4f505-f415-40ed-8a6d-a7f61834308d"
      },
      "source": [
        "df1=df[df.cluter==0]\n",
        "df2=df[df.cluter==1]\n",
        "df3=df[df.cluter==2]\n",
        "plt.scatter(df1.petal_size,df1[\"sepal_size\"],color=\"red\")\n",
        "plt.scatter(df2.petal_size,df2[\"sepal_size\"],color=\"green\")\n",
        "plt.scatter(df3.petal_size,df3[\"sepal_size\"],color=\"blue\")\n",
        "plt.scatter(km.cluster_centers_[:,0],km.cluster_centers_[:,1],color=\"cyan\",marker=\"*\",label=\"centroid\")\n",
        "plt.xlabel(\"petal_size\")\n",
        "plt.ylabel(\"sepal_size\")\n",
        "\n",
        "\n"
      ],
      "execution_count": 9,
      "outputs": [
        {
          "output_type": "execute_result",
          "data": {
            "text/plain": [
              "Text(0, 0.5, 'sepal_size')"
            ]
          },
          "metadata": {
            "tags": []
          },
          "execution_count": 9
        },
        {
          "output_type": "display_data",
          "data": {
            "image/png": "[encoded data removed]",
            "text/plain": [
              "<Figure size 432x288 with 1 Axes>"
            ]
          },
          "metadata": {
            "tags": [],
            "needs_background": "light"
          }
        }
      ]
    },
    {
      "cell_type": "code",
      "metadata": {
        "colab": {
          "base_uri": "https://localhost:8080/"
        },
        "id": "TlcEG8HqElau",
        "outputId": "57d54253-4244-45ed-a50f-080f29ca2875"
      },
      "source": [
        "km.cluster_centers_"
      ],
      "execution_count": 10,
      "outputs": [
        {
          "output_type": "execute_result",
          "data": {
            "text/plain": [
              "array([[ 8.8567016 , 12.83136004],\n",
              "       [ 2.00809489,  3.4694147 ],\n",
              "       [12.47069684,  8.27960708]])"
            ]
          },
          "metadata": {
            "tags": []
          },
          "execution_count": 10
        }
      ]
    },
    {
      "cell_type": "code",
      "metadata": {
        "id": "nChC-5E4Hu9T"
      },
      "source": [
        "X = df.iloc[:, [0, 1]].values\n"
      ],
      "execution_count": 11,
      "outputs": []
    },
    {
      "cell_type": "code",
      "metadata": {
        "id": "e82cQmZSF_D9"
      },
      "source": [
        "\n",
        "#Here the range is taken till 11 because we just need 10 cluster points.\n",
        "wcss = []\n",
        "k_range= range(1, 11)\n",
        "for k in k_range:\n",
        "    kmeans = KMeans(n_clusters=k, init='k-means++', random_state = 42)\n",
        "    kmeans.fit(X)\n",
        "    # inertia method returns wcss for that model\n",
        "    wcss.append(kmeans.inertia_)\n",
        " "
      ],
      "execution_count": 12,
      "outputs": []
    },
    {
      "cell_type": "code",
      "metadata": {
        "colab": {
          "base_uri": "https://localhost:8080/"
        },
        "id": "GoVOiLmNIadB",
        "outputId": "708f5706-1735-4c20-c7e1-822204868b94"
      },
      "source": [
        "   wcss"
      ],
      "execution_count": 13,
      "outputs": [
        {
          "output_type": "execute_result",
          "data": {
            "text/plain": [
              "[5446.649985340712,\n",
              " 1276.1239239406564,\n",
              " 431.97630172772193,\n",
              " 325.1952958155419,\n",
              " 219.4073494469312,\n",
              " 182.3600089173876,\n",
              " 161.60787845218613,\n",
              " 138.86696343888602,\n",
              " 119.51096808110992,\n",
              " 102.08123579340246]"
            ]
          },
          "metadata": {
            "tags": []
          },
          "execution_count": 13
        }
      ]
    },
    {
      "cell_type": "code",
      "metadata": {
        "colab": {
          "base_uri": "https://localhost:8080/",
          "height": 342
        },
        "id": "iTV2eYH1IfNL",
        "outputId": "0d328f0f-da6f-4fe2-bcee-4705f6c276d3"
      },
      "source": [
        "plt.xlabel(\"K\")\n",
        "plt.ylabel(\"Sum of Squared error(wcss,Within Cluster Sum of Squares)\")\n",
        "plt.plot(k_range,wcss,marker=\"o\",color='red')"
      ],
      "execution_count": 14,
      "outputs": [
        {
          "output_type": "execute_result",
          "data": {
            "text/plain": [
              "[<matplotlib.lines.Line2D at 0x7fdc5f15a5d0>]"
            ]
          },
          "metadata": {
            "tags": []
          },
          "execution_count": 14
        },
        {
          "output_type": "display_data",
          "data": {
            "image/png": "[encoded data removed]",
            "text/plain": [
              "<Figure size 432x288 with 1 Axes>"
            ]
          },
          "metadata": {
            "tags": [],
            "needs_background": "light"
          }
        }
      ]
    }
  ]
}